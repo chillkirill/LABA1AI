import os

# Создание и запись в файл
with open("example.txt", "w") as f:
    f.write("Всем привет\n")
    f.write("Всем пока\n")
# Чтение файла
with open("example.txt", "r") as f:
    content = f.read()
    print("Содержимое файла:\n", content)
    
# Проверка существования файла
print("Файл существует:", os.path.exists("example.txt"))

# Удаление файла
os.remove("example.txt")
print("Файла нету.")





