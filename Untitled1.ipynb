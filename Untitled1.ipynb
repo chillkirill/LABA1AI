%lsmagic


!ls 
!which python 
!mkdir new_folder 
!rmdir new_folder 



