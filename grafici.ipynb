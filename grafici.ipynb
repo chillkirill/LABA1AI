%%time
total = 0
for i in range(10**6):
    total += i


import matplotlib.pyplot as plt
import numpy as np

x = np.linspace(0, 10, 100)
y = np.sin(x)

plt.plot(x, y)
plt.xlabel("X")
plt.ylabel("Y")
plt.title("График синусоиды")
plt.show()



