!lspython


!which pythonpython


!mkdir test_folder
!lspython



