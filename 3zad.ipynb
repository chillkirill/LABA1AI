%lsmagic


%ls


%lsmagic


    !which python
    



!pwd


!cd


import os
print(os.getcwd())



    !ls
    




