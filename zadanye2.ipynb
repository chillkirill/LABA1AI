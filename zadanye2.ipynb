# Запись кода в файл
%lsmagic
%%writefile 3.1.py
for i in range(3):
    print(f"Итерация {i}")

# Выполнение скрипта
!python test_script.py

# Измерение времени выполнения
%time sum(range(1000000))


%lsmagic


%%writefile 3.1.py
for i in range(3):
    print(f"Итерация {i}")

# Выполнение скрипта
!python test_script.py

# Измерение времени выполнения
%time sum(range(1000000))


%history


%ls



